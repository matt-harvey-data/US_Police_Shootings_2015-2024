{
 "cells": [
  {
   "cell_type": "code",
   "execution_count": 141,
   "id": "40282e5e",
   "metadata": {},
   "outputs": [],
   "source": [
    "# Load in necessary packages\n",
    "\n",
    "import pandas as pd\n",
    "\n",
    "import matplotlib.pyplot as plt"
   ]
  },
  {
   "cell_type": "code",
   "execution_count": 142,
   "id": "6c036617",
   "metadata": {},
   "outputs": [],
   "source": [
    "# Read in the data from the .csv file\n",
    "\n",
    "# This dataset covers US Police Shootings from 2015-2024. More information can be found at \n",
    "# https://www.kaggle.com/datasets/aquibahmad7/police-shootings-in-the-united-states-2015-2024?resource=download\n",
    "\n",
    "data = pd.read_csv('C:/Users/bourb/OneDrive/Datasets/2024-07-23-washington-post-police-shootings-export.csv')"
   ]
  },
  {
   "cell_type": "code",
   "execution_count": 143,
   "id": "54063514",
   "metadata": {},
   "outputs": [
    {
     "data": {
      "text/html": [
       "<div>\n",
       "<style scoped>\n",
       "    .dataframe tbody tr th:only-of-type {\n",
       "        vertical-align: middle;\n",
       "    }\n",
       "\n",
       "    .dataframe tbody tr th {\n",
       "        vertical-align: top;\n",
       "    }\n",
       "\n",
       "    .dataframe thead th {\n",
       "        text-align: right;\n",
       "    }\n",
       "</style>\n",
       "<table border=\"1\" class=\"dataframe\">\n",
       "  <thead>\n",
       "    <tr style=\"text-align: right;\">\n",
       "      <th></th>\n",
       "      <th>date</th>\n",
       "      <th>name</th>\n",
       "      <th>age</th>\n",
       "      <th>gender</th>\n",
       "      <th>armed</th>\n",
       "      <th>race</th>\n",
       "      <th>city</th>\n",
       "      <th>state</th>\n",
       "      <th>flee</th>\n",
       "      <th>body_camera</th>\n",
       "      <th>signs_of_mental_illness</th>\n",
       "      <th>police_departments_involved</th>\n",
       "    </tr>\n",
       "  </thead>\n",
       "  <tbody>\n",
       "    <tr>\n",
       "      <th>0</th>\n",
       "      <td>2015-01-02</td>\n",
       "      <td>Lewis Lee Lembke</td>\n",
       "      <td>47.0</td>\n",
       "      <td>male</td>\n",
       "      <td>gun</td>\n",
       "      <td>White</td>\n",
       "      <td>Aloha</td>\n",
       "      <td>OR</td>\n",
       "      <td>not</td>\n",
       "      <td>False</td>\n",
       "      <td>False</td>\n",
       "      <td>Washington County Sheriff's Office, OR</td>\n",
       "    </tr>\n",
       "    <tr>\n",
       "      <th>1</th>\n",
       "      <td>2015-01-02</td>\n",
       "      <td>Tim Elliot</td>\n",
       "      <td>53.0</td>\n",
       "      <td>male</td>\n",
       "      <td>gun</td>\n",
       "      <td>Asian</td>\n",
       "      <td>Shelton</td>\n",
       "      <td>WA</td>\n",
       "      <td>not</td>\n",
       "      <td>False</td>\n",
       "      <td>True</td>\n",
       "      <td>Mason County Sheriff's Office, WA</td>\n",
       "    </tr>\n",
       "    <tr>\n",
       "      <th>2</th>\n",
       "      <td>2015-01-03</td>\n",
       "      <td>John Paul Quintero</td>\n",
       "      <td>23.0</td>\n",
       "      <td>male</td>\n",
       "      <td>unarmed</td>\n",
       "      <td>Hispanic</td>\n",
       "      <td>Wichita</td>\n",
       "      <td>KS</td>\n",
       "      <td>not</td>\n",
       "      <td>False</td>\n",
       "      <td>False</td>\n",
       "      <td>Wichita Police Department, KS</td>\n",
       "    </tr>\n",
       "  </tbody>\n",
       "</table>\n",
       "</div>"
      ],
      "text/plain": [
       "         date                name   age gender    armed      race     city  \\\n",
       "0  2015-01-02    Lewis Lee Lembke  47.0   male      gun     White    Aloha   \n",
       "1  2015-01-02          Tim Elliot  53.0   male      gun     Asian  Shelton   \n",
       "2  2015-01-03  John Paul Quintero  23.0   male  unarmed  Hispanic  Wichita   \n",
       "\n",
       "  state flee  body_camera  signs_of_mental_illness  \\\n",
       "0    OR  not        False                    False   \n",
       "1    WA  not        False                     True   \n",
       "2    KS  not        False                    False   \n",
       "\n",
       "              police_departments_involved  \n",
       "0  Washington County Sheriff's Office, OR  \n",
       "1       Mason County Sheriff's Office, WA  \n",
       "2           Wichita Police Department, KS  "
      ]
     },
     "execution_count": 143,
     "metadata": {},
     "output_type": "execute_result"
    }
   ],
   "source": [
    "# Inspect the data to confirm successful load\n",
    "\n",
    "data.head(3)"
   ]
  },
  {
   "cell_type": "code",
   "execution_count": 144,
   "id": "f2084908",
   "metadata": {},
   "outputs": [
    {
     "name": "stdout",
     "output_type": "stream",
     "text": [
      "<class 'pandas.core.frame.DataFrame'>\n",
      "RangeIndex: 9893 entries, 0 to 9892\n",
      "Data columns (total 12 columns):\n",
      " #   Column                       Non-Null Count  Dtype  \n",
      "---  ------                       --------------  -----  \n",
      " 0   date                         9893 non-null   object \n",
      " 1   name                         9556 non-null   object \n",
      " 2   age                          9509 non-null   float64\n",
      " 3   gender                       9865 non-null   object \n",
      " 4   armed                        9682 non-null   object \n",
      " 5   race                         9893 non-null   object \n",
      " 6   city                         9821 non-null   object \n",
      " 7   state                        9893 non-null   object \n",
      " 8   flee                         8548 non-null   object \n",
      " 9   body_camera                  9893 non-null   bool   \n",
      " 10  signs_of_mental_illness      9893 non-null   bool   \n",
      " 11  police_departments_involved  9892 non-null   object \n",
      "dtypes: bool(2), float64(1), object(9)\n",
      "memory usage: 792.3+ KB\n"
     ]
    }
   ],
   "source": [
    "# Check datatypes, row count, and # of non-null values in each column\n",
    "\n",
    "data.info()"
   ]
  },
  {
   "cell_type": "code",
   "execution_count": 145,
   "id": "be83c0a3",
   "metadata": {},
   "outputs": [
    {
     "data": {
      "text/html": [
       "<div>\n",
       "<style scoped>\n",
       "    .dataframe tbody tr th:only-of-type {\n",
       "        vertical-align: middle;\n",
       "    }\n",
       "\n",
       "    .dataframe tbody tr th {\n",
       "        vertical-align: top;\n",
       "    }\n",
       "\n",
       "    .dataframe thead th {\n",
       "        text-align: right;\n",
       "    }\n",
       "</style>\n",
       "<table border=\"1\" class=\"dataframe\">\n",
       "  <thead>\n",
       "    <tr style=\"text-align: right;\">\n",
       "      <th></th>\n",
       "      <th>date</th>\n",
       "      <th>name</th>\n",
       "      <th>age</th>\n",
       "      <th>gender</th>\n",
       "      <th>armed</th>\n",
       "      <th>race</th>\n",
       "      <th>city</th>\n",
       "      <th>state</th>\n",
       "      <th>flee</th>\n",
       "      <th>body_camera</th>\n",
       "      <th>signs_of_mental_illness</th>\n",
       "      <th>police_departments_involved</th>\n",
       "    </tr>\n",
       "  </thead>\n",
       "  <tbody>\n",
       "    <tr>\n",
       "      <th>930</th>\n",
       "      <td>2015-12-10</td>\n",
       "      <td>NaN</td>\n",
       "      <td>NaN</td>\n",
       "      <td>male</td>\n",
       "      <td>gun</td>\n",
       "      <td>Unknown</td>\n",
       "      <td>Hemet</td>\n",
       "      <td>CA</td>\n",
       "      <td>not</td>\n",
       "      <td>False</td>\n",
       "      <td>False</td>\n",
       "      <td>Hemet Police Department, CA</td>\n",
       "    </tr>\n",
       "    <tr>\n",
       "      <th>1419</th>\n",
       "      <td>2016-06-09</td>\n",
       "      <td>NaN</td>\n",
       "      <td>NaN</td>\n",
       "      <td>male</td>\n",
       "      <td>blunt_object</td>\n",
       "      <td>Unknown</td>\n",
       "      <td>Somerton</td>\n",
       "      <td>AZ</td>\n",
       "      <td>not</td>\n",
       "      <td>False</td>\n",
       "      <td>False</td>\n",
       "      <td>U.S. Border Patrol, AZ</td>\n",
       "    </tr>\n",
       "    <tr>\n",
       "      <th>1646</th>\n",
       "      <td>2016-09-01</td>\n",
       "      <td>NaN</td>\n",
       "      <td>NaN</td>\n",
       "      <td>male</td>\n",
       "      <td>blunt_object</td>\n",
       "      <td>Hispanic</td>\n",
       "      <td>Huntington Park</td>\n",
       "      <td>CA</td>\n",
       "      <td>not</td>\n",
       "      <td>False</td>\n",
       "      <td>False</td>\n",
       "      <td>Huntington Park Police Department, CA</td>\n",
       "    </tr>\n",
       "    <tr>\n",
       "      <th>1921</th>\n",
       "      <td>2016-12-20</td>\n",
       "      <td>NaN</td>\n",
       "      <td>NaN</td>\n",
       "      <td>male</td>\n",
       "      <td>knife</td>\n",
       "      <td>Unknown</td>\n",
       "      <td>Brawley</td>\n",
       "      <td>CA</td>\n",
       "      <td>not</td>\n",
       "      <td>False</td>\n",
       "      <td>True</td>\n",
       "      <td>Brawley Police Department, CA</td>\n",
       "    </tr>\n",
       "    <tr>\n",
       "      <th>2075</th>\n",
       "      <td>2017-02-09</td>\n",
       "      <td>NaN</td>\n",
       "      <td>NaN</td>\n",
       "      <td>male</td>\n",
       "      <td>undetermined</td>\n",
       "      <td>Unknown</td>\n",
       "      <td>Crownpoint</td>\n",
       "      <td>NM</td>\n",
       "      <td>NaN</td>\n",
       "      <td>False</td>\n",
       "      <td>False</td>\n",
       "      <td>Navajo Nation Police Department, NM</td>\n",
       "    </tr>\n",
       "    <tr>\n",
       "      <th>...</th>\n",
       "      <td>...</td>\n",
       "      <td>...</td>\n",
       "      <td>...</td>\n",
       "      <td>...</td>\n",
       "      <td>...</td>\n",
       "      <td>...</td>\n",
       "      <td>...</td>\n",
       "      <td>...</td>\n",
       "      <td>...</td>\n",
       "      <td>...</td>\n",
       "      <td>...</td>\n",
       "      <td>...</td>\n",
       "    </tr>\n",
       "    <tr>\n",
       "      <th>9872</th>\n",
       "      <td>2024-07-10</td>\n",
       "      <td>NaN</td>\n",
       "      <td>20.0</td>\n",
       "      <td>male</td>\n",
       "      <td>knife</td>\n",
       "      <td>Unknown</td>\n",
       "      <td>Muskegon</td>\n",
       "      <td>MI</td>\n",
       "      <td>foot</td>\n",
       "      <td>False</td>\n",
       "      <td>False</td>\n",
       "      <td>Muskegon Police Department, MI</td>\n",
       "    </tr>\n",
       "    <tr>\n",
       "      <th>9875</th>\n",
       "      <td>2024-07-10</td>\n",
       "      <td>NaN</td>\n",
       "      <td>NaN</td>\n",
       "      <td>male</td>\n",
       "      <td>gun</td>\n",
       "      <td>Unknown</td>\n",
       "      <td>Bedford</td>\n",
       "      <td>TX</td>\n",
       "      <td>NaN</td>\n",
       "      <td>False</td>\n",
       "      <td>False</td>\n",
       "      <td>Bedford Police Department, TX;Hurst Police Dep...</td>\n",
       "    </tr>\n",
       "    <tr>\n",
       "      <th>9883</th>\n",
       "      <td>2024-07-12</td>\n",
       "      <td>NaN</td>\n",
       "      <td>NaN</td>\n",
       "      <td>NaN</td>\n",
       "      <td>vehicle,gun</td>\n",
       "      <td>Unknown</td>\n",
       "      <td>Midlothian</td>\n",
       "      <td>TX</td>\n",
       "      <td>car</td>\n",
       "      <td>False</td>\n",
       "      <td>False</td>\n",
       "      <td>Dalworthington Gardens Police Department, TX;M...</td>\n",
       "    </tr>\n",
       "    <tr>\n",
       "      <th>9886</th>\n",
       "      <td>2024-07-13</td>\n",
       "      <td>NaN</td>\n",
       "      <td>NaN</td>\n",
       "      <td>male</td>\n",
       "      <td>gun</td>\n",
       "      <td>Unknown</td>\n",
       "      <td>Los Angeles</td>\n",
       "      <td>CA</td>\n",
       "      <td>not</td>\n",
       "      <td>False</td>\n",
       "      <td>False</td>\n",
       "      <td>Los Angeles Police Department, CA</td>\n",
       "    </tr>\n",
       "    <tr>\n",
       "      <th>9889</th>\n",
       "      <td>2024-07-15</td>\n",
       "      <td>NaN</td>\n",
       "      <td>NaN</td>\n",
       "      <td>male</td>\n",
       "      <td>undetermined</td>\n",
       "      <td>Unknown</td>\n",
       "      <td>Graham</td>\n",
       "      <td>WA</td>\n",
       "      <td>other</td>\n",
       "      <td>False</td>\n",
       "      <td>False</td>\n",
       "      <td>Pierce County Sheriff's Department, WA</td>\n",
       "    </tr>\n",
       "  </tbody>\n",
       "</table>\n",
       "<p>337 rows × 12 columns</p>\n",
       "</div>"
      ],
      "text/plain": [
       "            date name   age gender         armed      race             city  \\\n",
       "930   2015-12-10  NaN   NaN   male           gun   Unknown            Hemet   \n",
       "1419  2016-06-09  NaN   NaN   male  blunt_object   Unknown         Somerton   \n",
       "1646  2016-09-01  NaN   NaN   male  blunt_object  Hispanic  Huntington Park   \n",
       "1921  2016-12-20  NaN   NaN   male         knife   Unknown          Brawley   \n",
       "2075  2017-02-09  NaN   NaN   male  undetermined   Unknown       Crownpoint   \n",
       "...          ...  ...   ...    ...           ...       ...              ...   \n",
       "9872  2024-07-10  NaN  20.0   male         knife   Unknown         Muskegon   \n",
       "9875  2024-07-10  NaN   NaN   male           gun   Unknown          Bedford   \n",
       "9883  2024-07-12  NaN   NaN    NaN   vehicle,gun   Unknown       Midlothian   \n",
       "9886  2024-07-13  NaN   NaN   male           gun   Unknown      Los Angeles   \n",
       "9889  2024-07-15  NaN   NaN   male  undetermined   Unknown           Graham   \n",
       "\n",
       "     state   flee  body_camera  signs_of_mental_illness  \\\n",
       "930     CA    not        False                    False   \n",
       "1419    AZ    not        False                    False   \n",
       "1646    CA    not        False                    False   \n",
       "1921    CA    not        False                     True   \n",
       "2075    NM    NaN        False                    False   \n",
       "...    ...    ...          ...                      ...   \n",
       "9872    MI   foot        False                    False   \n",
       "9875    TX    NaN        False                    False   \n",
       "9883    TX    car        False                    False   \n",
       "9886    CA    not        False                    False   \n",
       "9889    WA  other        False                    False   \n",
       "\n",
       "                            police_departments_involved  \n",
       "930                         Hemet Police Department, CA  \n",
       "1419                             U.S. Border Patrol, AZ  \n",
       "1646              Huntington Park Police Department, CA  \n",
       "1921                      Brawley Police Department, CA  \n",
       "2075                Navajo Nation Police Department, NM  \n",
       "...                                                 ...  \n",
       "9872                     Muskegon Police Department, MI  \n",
       "9875  Bedford Police Department, TX;Hurst Police Dep...  \n",
       "9883  Dalworthington Gardens Police Department, TX;M...  \n",
       "9886                  Los Angeles Police Department, CA  \n",
       "9889             Pierce County Sheriff's Department, WA  \n",
       "\n",
       "[337 rows x 12 columns]"
      ]
     },
     "execution_count": 145,
     "metadata": {},
     "output_type": "execute_result"
    }
   ],
   "source": [
    "# Inspect the rows with a null value in the name column \n",
    "\n",
    "data[data['name'].isna()]"
   ]
  },
  {
   "cell_type": "code",
   "execution_count": 146,
   "id": "6ab374d4",
   "metadata": {},
   "outputs": [],
   "source": [
    "# Fill the nulls in the name column with the value 'Unknown'\n",
    "\n",
    "data['name'] = data['name'].fillna('Unknown')"
   ]
  },
  {
   "cell_type": "code",
   "execution_count": 147,
   "id": "6ac68c43",
   "metadata": {},
   "outputs": [
    {
     "data": {
      "text/html": [
       "<div>\n",
       "<style scoped>\n",
       "    .dataframe tbody tr th:only-of-type {\n",
       "        vertical-align: middle;\n",
       "    }\n",
       "\n",
       "    .dataframe tbody tr th {\n",
       "        vertical-align: top;\n",
       "    }\n",
       "\n",
       "    .dataframe thead th {\n",
       "        text-align: right;\n",
       "    }\n",
       "</style>\n",
       "<table border=\"1\" class=\"dataframe\">\n",
       "  <thead>\n",
       "    <tr style=\"text-align: right;\">\n",
       "      <th></th>\n",
       "      <th>date</th>\n",
       "      <th>name</th>\n",
       "      <th>age</th>\n",
       "      <th>gender</th>\n",
       "      <th>armed</th>\n",
       "      <th>race</th>\n",
       "      <th>city</th>\n",
       "      <th>state</th>\n",
       "      <th>flee</th>\n",
       "      <th>body_camera</th>\n",
       "      <th>signs_of_mental_illness</th>\n",
       "      <th>police_departments_involved</th>\n",
       "    </tr>\n",
       "  </thead>\n",
       "  <tbody>\n",
       "    <tr>\n",
       "      <th>930</th>\n",
       "      <td>2015-12-10</td>\n",
       "      <td>Unknown</td>\n",
       "      <td>NaN</td>\n",
       "      <td>male</td>\n",
       "      <td>gun</td>\n",
       "      <td>Unknown</td>\n",
       "      <td>Hemet</td>\n",
       "      <td>CA</td>\n",
       "      <td>not</td>\n",
       "      <td>False</td>\n",
       "      <td>False</td>\n",
       "      <td>Hemet Police Department, CA</td>\n",
       "    </tr>\n",
       "    <tr>\n",
       "      <th>1419</th>\n",
       "      <td>2016-06-09</td>\n",
       "      <td>Unknown</td>\n",
       "      <td>NaN</td>\n",
       "      <td>male</td>\n",
       "      <td>blunt_object</td>\n",
       "      <td>Unknown</td>\n",
       "      <td>Somerton</td>\n",
       "      <td>AZ</td>\n",
       "      <td>not</td>\n",
       "      <td>False</td>\n",
       "      <td>False</td>\n",
       "      <td>U.S. Border Patrol, AZ</td>\n",
       "    </tr>\n",
       "    <tr>\n",
       "      <th>1646</th>\n",
       "      <td>2016-09-01</td>\n",
       "      <td>Unknown</td>\n",
       "      <td>NaN</td>\n",
       "      <td>male</td>\n",
       "      <td>blunt_object</td>\n",
       "      <td>Hispanic</td>\n",
       "      <td>Huntington Park</td>\n",
       "      <td>CA</td>\n",
       "      <td>not</td>\n",
       "      <td>False</td>\n",
       "      <td>False</td>\n",
       "      <td>Huntington Park Police Department, CA</td>\n",
       "    </tr>\n",
       "    <tr>\n",
       "      <th>1921</th>\n",
       "      <td>2016-12-20</td>\n",
       "      <td>Unknown</td>\n",
       "      <td>NaN</td>\n",
       "      <td>male</td>\n",
       "      <td>knife</td>\n",
       "      <td>Unknown</td>\n",
       "      <td>Brawley</td>\n",
       "      <td>CA</td>\n",
       "      <td>not</td>\n",
       "      <td>False</td>\n",
       "      <td>True</td>\n",
       "      <td>Brawley Police Department, CA</td>\n",
       "    </tr>\n",
       "    <tr>\n",
       "      <th>2075</th>\n",
       "      <td>2017-02-09</td>\n",
       "      <td>Unknown</td>\n",
       "      <td>NaN</td>\n",
       "      <td>male</td>\n",
       "      <td>undetermined</td>\n",
       "      <td>Unknown</td>\n",
       "      <td>Crownpoint</td>\n",
       "      <td>NM</td>\n",
       "      <td>NaN</td>\n",
       "      <td>False</td>\n",
       "      <td>False</td>\n",
       "      <td>Navajo Nation Police Department, NM</td>\n",
       "    </tr>\n",
       "    <tr>\n",
       "      <th>...</th>\n",
       "      <td>...</td>\n",
       "      <td>...</td>\n",
       "      <td>...</td>\n",
       "      <td>...</td>\n",
       "      <td>...</td>\n",
       "      <td>...</td>\n",
       "      <td>...</td>\n",
       "      <td>...</td>\n",
       "      <td>...</td>\n",
       "      <td>...</td>\n",
       "      <td>...</td>\n",
       "      <td>...</td>\n",
       "    </tr>\n",
       "    <tr>\n",
       "      <th>9872</th>\n",
       "      <td>2024-07-10</td>\n",
       "      <td>Unknown</td>\n",
       "      <td>20.0</td>\n",
       "      <td>male</td>\n",
       "      <td>knife</td>\n",
       "      <td>Unknown</td>\n",
       "      <td>Muskegon</td>\n",
       "      <td>MI</td>\n",
       "      <td>foot</td>\n",
       "      <td>False</td>\n",
       "      <td>False</td>\n",
       "      <td>Muskegon Police Department, MI</td>\n",
       "    </tr>\n",
       "    <tr>\n",
       "      <th>9875</th>\n",
       "      <td>2024-07-10</td>\n",
       "      <td>Unknown</td>\n",
       "      <td>NaN</td>\n",
       "      <td>male</td>\n",
       "      <td>gun</td>\n",
       "      <td>Unknown</td>\n",
       "      <td>Bedford</td>\n",
       "      <td>TX</td>\n",
       "      <td>NaN</td>\n",
       "      <td>False</td>\n",
       "      <td>False</td>\n",
       "      <td>Bedford Police Department, TX;Hurst Police Dep...</td>\n",
       "    </tr>\n",
       "    <tr>\n",
       "      <th>9883</th>\n",
       "      <td>2024-07-12</td>\n",
       "      <td>Unknown</td>\n",
       "      <td>NaN</td>\n",
       "      <td>NaN</td>\n",
       "      <td>vehicle,gun</td>\n",
       "      <td>Unknown</td>\n",
       "      <td>Midlothian</td>\n",
       "      <td>TX</td>\n",
       "      <td>car</td>\n",
       "      <td>False</td>\n",
       "      <td>False</td>\n",
       "      <td>Dalworthington Gardens Police Department, TX;M...</td>\n",
       "    </tr>\n",
       "    <tr>\n",
       "      <th>9886</th>\n",
       "      <td>2024-07-13</td>\n",
       "      <td>Unknown</td>\n",
       "      <td>NaN</td>\n",
       "      <td>male</td>\n",
       "      <td>gun</td>\n",
       "      <td>Unknown</td>\n",
       "      <td>Los Angeles</td>\n",
       "      <td>CA</td>\n",
       "      <td>not</td>\n",
       "      <td>False</td>\n",
       "      <td>False</td>\n",
       "      <td>Los Angeles Police Department, CA</td>\n",
       "    </tr>\n",
       "    <tr>\n",
       "      <th>9889</th>\n",
       "      <td>2024-07-15</td>\n",
       "      <td>Unknown</td>\n",
       "      <td>NaN</td>\n",
       "      <td>male</td>\n",
       "      <td>undetermined</td>\n",
       "      <td>Unknown</td>\n",
       "      <td>Graham</td>\n",
       "      <td>WA</td>\n",
       "      <td>other</td>\n",
       "      <td>False</td>\n",
       "      <td>False</td>\n",
       "      <td>Pierce County Sheriff's Department, WA</td>\n",
       "    </tr>\n",
       "  </tbody>\n",
       "</table>\n",
       "<p>337 rows × 12 columns</p>\n",
       "</div>"
      ],
      "text/plain": [
       "            date     name   age gender         armed      race  \\\n",
       "930   2015-12-10  Unknown   NaN   male           gun   Unknown   \n",
       "1419  2016-06-09  Unknown   NaN   male  blunt_object   Unknown   \n",
       "1646  2016-09-01  Unknown   NaN   male  blunt_object  Hispanic   \n",
       "1921  2016-12-20  Unknown   NaN   male         knife   Unknown   \n",
       "2075  2017-02-09  Unknown   NaN   male  undetermined   Unknown   \n",
       "...          ...      ...   ...    ...           ...       ...   \n",
       "9872  2024-07-10  Unknown  20.0   male         knife   Unknown   \n",
       "9875  2024-07-10  Unknown   NaN   male           gun   Unknown   \n",
       "9883  2024-07-12  Unknown   NaN    NaN   vehicle,gun   Unknown   \n",
       "9886  2024-07-13  Unknown   NaN   male           gun   Unknown   \n",
       "9889  2024-07-15  Unknown   NaN   male  undetermined   Unknown   \n",
       "\n",
       "                 city state   flee  body_camera  signs_of_mental_illness  \\\n",
       "930             Hemet    CA    not        False                    False   \n",
       "1419         Somerton    AZ    not        False                    False   \n",
       "1646  Huntington Park    CA    not        False                    False   \n",
       "1921          Brawley    CA    not        False                     True   \n",
       "2075       Crownpoint    NM    NaN        False                    False   \n",
       "...               ...   ...    ...          ...                      ...   \n",
       "9872         Muskegon    MI   foot        False                    False   \n",
       "9875          Bedford    TX    NaN        False                    False   \n",
       "9883       Midlothian    TX    car        False                    False   \n",
       "9886      Los Angeles    CA    not        False                    False   \n",
       "9889           Graham    WA  other        False                    False   \n",
       "\n",
       "                            police_departments_involved  \n",
       "930                         Hemet Police Department, CA  \n",
       "1419                             U.S. Border Patrol, AZ  \n",
       "1646              Huntington Park Police Department, CA  \n",
       "1921                      Brawley Police Department, CA  \n",
       "2075                Navajo Nation Police Department, NM  \n",
       "...                                                 ...  \n",
       "9872                     Muskegon Police Department, MI  \n",
       "9875  Bedford Police Department, TX;Hurst Police Dep...  \n",
       "9883  Dalworthington Gardens Police Department, TX;M...  \n",
       "9886                  Los Angeles Police Department, CA  \n",
       "9889             Pierce County Sheriff's Department, WA  \n",
       "\n",
       "[337 rows x 12 columns]"
      ]
     },
     "execution_count": 147,
     "metadata": {},
     "output_type": "execute_result"
    }
   ],
   "source": [
    "# Inspect the values that are now 'Unknown'...this is done mostly to confirm the row count matches that of the above DataFrame\n",
    "# where these values were previously null. It is 337 in both dfs so it stands to reason that all nulls were replaced\n",
    "\n",
    "data[data['name'] == 'Unknown']"
   ]
  },
  {
   "cell_type": "code",
   "execution_count": 148,
   "id": "1b2b4a71",
   "metadata": {},
   "outputs": [
    {
     "name": "stdout",
     "output_type": "stream",
     "text": [
      "<class 'pandas.core.frame.DataFrame'>\n",
      "RangeIndex: 9893 entries, 0 to 9892\n",
      "Data columns (total 12 columns):\n",
      " #   Column                       Non-Null Count  Dtype  \n",
      "---  ------                       --------------  -----  \n",
      " 0   date                         9893 non-null   object \n",
      " 1   name                         9893 non-null   object \n",
      " 2   age                          9509 non-null   float64\n",
      " 3   gender                       9865 non-null   object \n",
      " 4   armed                        9682 non-null   object \n",
      " 5   race                         9893 non-null   object \n",
      " 6   city                         9821 non-null   object \n",
      " 7   state                        9893 non-null   object \n",
      " 8   flee                         8548 non-null   object \n",
      " 9   body_camera                  9893 non-null   bool   \n",
      " 10  signs_of_mental_illness      9893 non-null   bool   \n",
      " 11  police_departments_involved  9892 non-null   object \n",
      "dtypes: bool(2), float64(1), object(9)\n",
      "memory usage: 792.3+ KB\n"
     ]
    }
   ],
   "source": [
    "# Again check '.info()' to confirm the name column now has no null values\n",
    "\n",
    "data.info()\n",
    "\n",
    "# I will skip the age column for now because of it's datatype. Filling with a string value is not appropriate, so I'll have to\n",
    "# deal with null values there differently"
   ]
  },
  {
   "cell_type": "code",
   "execution_count": 149,
   "id": "81579b8c",
   "metadata": {},
   "outputs": [],
   "source": [
    "# I've decided to also replace gender column nulls with 'unknown' however this time with a lowercase u to match the all lower\n",
    "# case convention already established in the populated values in the column\n",
    "\n",
    "data['gender'] = data['gender'].fillna('unknown')"
   ]
  },
  {
   "cell_type": "code",
   "execution_count": 150,
   "id": "bed7dcec",
   "metadata": {},
   "outputs": [
    {
     "name": "stdout",
     "output_type": "stream",
     "text": [
      "<class 'pandas.core.frame.DataFrame'>\n",
      "RangeIndex: 9893 entries, 0 to 9892\n",
      "Data columns (total 12 columns):\n",
      " #   Column                       Non-Null Count  Dtype  \n",
      "---  ------                       --------------  -----  \n",
      " 0   date                         9893 non-null   object \n",
      " 1   name                         9893 non-null   object \n",
      " 2   age                          9509 non-null   float64\n",
      " 3   gender                       9893 non-null   object \n",
      " 4   armed                        9682 non-null   object \n",
      " 5   race                         9893 non-null   object \n",
      " 6   city                         9821 non-null   object \n",
      " 7   state                        9893 non-null   object \n",
      " 8   flee                         8548 non-null   object \n",
      " 9   body_camera                  9893 non-null   bool   \n",
      " 10  signs_of_mental_illness      9893 non-null   bool   \n",
      " 11  police_departments_involved  9892 non-null   object \n",
      "dtypes: bool(2), float64(1), object(9)\n",
      "memory usage: 792.3+ KB\n"
     ]
    }
   ],
   "source": [
    "# Confirm that all nulls in the gender column are handled \n",
    "\n",
    "data.info()"
   ]
  },
  {
   "cell_type": "code",
   "execution_count": 151,
   "id": "6863e3ea",
   "metadata": {},
   "outputs": [
    {
     "data": {
      "text/plain": [
       "array(['gun', 'unarmed', 'other', 'replica', 'knife', 'blunt_object', nan,\n",
       "       'vehicle', 'undetermined', 'other,gun', 'unknown',\n",
       "       'blunt_object,blunt_object', 'gun,knife', 'knife,blunt_object',\n",
       "       'vehicle,gun', 'gun,vehicle', 'replica,vehicle',\n",
       "       'blunt_object,knife', 'knife,vehicle', 'vehicle,knife,other',\n",
       "       'knife,knife', 'replica,knife', 'other,blunt_object,knife',\n",
       "       'other,knife', 'vehicle,knife', 'gun,other', 'blunt_object,other'],\n",
       "      dtype=object)"
      ]
     },
     "execution_count": 151,
     "metadata": {},
     "output_type": "execute_result"
    }
   ],
   "source": [
    "# Inspect all unique values in the armed column to decide how to deal with nulls\n",
    "\n",
    "data['armed'].unique()"
   ]
  },
  {
   "cell_type": "code",
   "execution_count": 152,
   "id": "fdf46f64",
   "metadata": {},
   "outputs": [],
   "source": [
    "# I've decided to fill the nulls with the value 'undetermined'\n",
    "\n",
    "data['armed'] = data['armed'].fillna('undetermined')"
   ]
  },
  {
   "cell_type": "code",
   "execution_count": 153,
   "id": "c264eee4",
   "metadata": {},
   "outputs": [],
   "source": [
    "# I also want to coerce the value 'unknown' to 'undetermined' and not deal with two different values for one phenomenon\n",
    "\n",
    "data['armed'] = data['armed'].replace({'unknown': 'undetermined'})"
   ]
  },
  {
   "cell_type": "code",
   "execution_count": 154,
   "id": "28fa0d14",
   "metadata": {},
   "outputs": [
    {
     "data": {
      "text/plain": [
       "array(['gun', 'unarmed', 'other', 'replica', 'knife', 'blunt_object',\n",
       "       'undetermined', 'vehicle', 'other,gun',\n",
       "       'blunt_object,blunt_object', 'gun,knife', 'knife,blunt_object',\n",
       "       'vehicle,gun', 'gun,vehicle', 'replica,vehicle',\n",
       "       'blunt_object,knife', 'knife,vehicle', 'vehicle,knife,other',\n",
       "       'knife,knife', 'replica,knife', 'other,blunt_object,knife',\n",
       "       'other,knife', 'vehicle,knife', 'gun,other', 'blunt_object,other'],\n",
       "      dtype=object)"
      ]
     },
     "execution_count": 154,
     "metadata": {},
     "output_type": "execute_result"
    }
   ],
   "source": [
    "# Inspect to confirm both NaN and 'unknown' are no longer present\n",
    "\n",
    "data['armed'].unique()"
   ]
  },
  {
   "cell_type": "code",
   "execution_count": 155,
   "id": "561b78f3",
   "metadata": {},
   "outputs": [],
   "source": [
    "# Iterate through the values in the armed column looking for values with a ','. If ',' is found then replace the value with\n",
    "# 'multiple weapons'\n",
    "\n",
    "for value in data['armed']:\n",
    "    if ',' in value:\n",
    "        data ['armed'] = data['armed'].replace(value, 'multiple weapons')"
   ]
  },
  {
   "cell_type": "code",
   "execution_count": 156,
   "id": "a65411da",
   "metadata": {},
   "outputs": [
    {
     "data": {
      "text/plain": [
       "array(['gun', 'unarmed', 'other', 'replica', 'knife', 'blunt_object',\n",
       "       'undetermined', 'vehicle', 'multiple weapons'], dtype=object)"
      ]
     },
     "execution_count": 156,
     "metadata": {},
     "output_type": "execute_result"
    }
   ],
   "source": [
    "# Confirm this cleanup with successful\n",
    "\n",
    "data['armed'].unique()"
   ]
  },
  {
   "cell_type": "code",
   "execution_count": 157,
   "id": "e7f15db7",
   "metadata": {},
   "outputs": [
    {
     "data": {
      "text/html": [
       "<div>\n",
       "<style scoped>\n",
       "    .dataframe tbody tr th:only-of-type {\n",
       "        vertical-align: middle;\n",
       "    }\n",
       "\n",
       "    .dataframe tbody tr th {\n",
       "        vertical-align: top;\n",
       "    }\n",
       "\n",
       "    .dataframe thead th {\n",
       "        text-align: right;\n",
       "    }\n",
       "</style>\n",
       "<table border=\"1\" class=\"dataframe\">\n",
       "  <thead>\n",
       "    <tr style=\"text-align: right;\">\n",
       "      <th></th>\n",
       "      <th>race</th>\n",
       "    </tr>\n",
       "    <tr>\n",
       "      <th>armed</th>\n",
       "      <th></th>\n",
       "    </tr>\n",
       "  </thead>\n",
       "  <tbody>\n",
       "    <tr>\n",
       "      <th>gun</th>\n",
       "      <td>5748</td>\n",
       "    </tr>\n",
       "    <tr>\n",
       "      <th>knife</th>\n",
       "      <td>1683</td>\n",
       "    </tr>\n",
       "    <tr>\n",
       "      <th>undetermined</th>\n",
       "      <td>780</td>\n",
       "    </tr>\n",
       "    <tr>\n",
       "      <th>unarmed</th>\n",
       "      <td>551</td>\n",
       "    </tr>\n",
       "    <tr>\n",
       "      <th>vehicle</th>\n",
       "      <td>351</td>\n",
       "    </tr>\n",
       "    <tr>\n",
       "      <th>replica</th>\n",
       "      <td>314</td>\n",
       "    </tr>\n",
       "    <tr>\n",
       "      <th>blunt_object</th>\n",
       "      <td>239</td>\n",
       "    </tr>\n",
       "    <tr>\n",
       "      <th>multiple weapons</th>\n",
       "      <td>129</td>\n",
       "    </tr>\n",
       "    <tr>\n",
       "      <th>other</th>\n",
       "      <td>98</td>\n",
       "    </tr>\n",
       "  </tbody>\n",
       "</table>\n",
       "</div>"
      ],
      "text/plain": [
       "                  race\n",
       "armed                 \n",
       "gun               5748\n",
       "knife             1683\n",
       "undetermined       780\n",
       "unarmed            551\n",
       "vehicle            351\n",
       "replica            314\n",
       "blunt_object       239\n",
       "multiple weapons   129\n",
       "other               98"
      ]
     },
     "execution_count": 157,
     "metadata": {},
     "output_type": "execute_result"
    }
   ],
   "source": [
    "# Count the values in the armed column to assess the impact of creating the multiple weapons column. Since this substition\n",
    "# represents < 1.5%  of values I find this to be an acceptable strategy. Though for the purposes of my testing I am accepting\n",
    "# 'race' as the column name, if I were to present this data I would coerce this column name to something like 'count.'\n",
    "\n",
    "data[['armed', 'race']].groupby('armed').count().sort_values(by='race', ascending=False)"
   ]
  },
  {
   "cell_type": "code",
   "execution_count": 158,
   "id": "3bd0f357",
   "metadata": {},
   "outputs": [
    {
     "name": "stdout",
     "output_type": "stream",
     "text": [
      "<class 'pandas.core.frame.DataFrame'>\n",
      "RangeIndex: 9893 entries, 0 to 9892\n",
      "Data columns (total 12 columns):\n",
      " #   Column                       Non-Null Count  Dtype  \n",
      "---  ------                       --------------  -----  \n",
      " 0   date                         9893 non-null   object \n",
      " 1   name                         9893 non-null   object \n",
      " 2   age                          9509 non-null   float64\n",
      " 3   gender                       9893 non-null   object \n",
      " 4   armed                        9893 non-null   object \n",
      " 5   race                         9893 non-null   object \n",
      " 6   city                         9821 non-null   object \n",
      " 7   state                        9893 non-null   object \n",
      " 8   flee                         8548 non-null   object \n",
      " 9   body_camera                  9893 non-null   bool   \n",
      " 10  signs_of_mental_illness      9893 non-null   bool   \n",
      " 11  police_departments_involved  9892 non-null   object \n",
      "dtypes: bool(2), float64(1), object(9)\n",
      "memory usage: 792.3+ KB\n"
     ]
    }
   ],
   "source": [
    "# Inspect to confirm all null values in the 'armed' column have been handled\n",
    "\n",
    "data.info()"
   ]
  },
  {
   "cell_type": "code",
   "execution_count": 159,
   "id": "4351b9a4",
   "metadata": {},
   "outputs": [],
   "source": [
    "# I have decided to fill null city names to the value 'Unknown' \n",
    "\n",
    "data['city'] = data['city'].fillna('Unknown')"
   ]
  },
  {
   "cell_type": "code",
   "execution_count": 160,
   "id": "56b08586",
   "metadata": {},
   "outputs": [
    {
     "name": "stdout",
     "output_type": "stream",
     "text": [
      "<class 'pandas.core.frame.DataFrame'>\n",
      "RangeIndex: 9893 entries, 0 to 9892\n",
      "Data columns (total 12 columns):\n",
      " #   Column                       Non-Null Count  Dtype  \n",
      "---  ------                       --------------  -----  \n",
      " 0   date                         9893 non-null   object \n",
      " 1   name                         9893 non-null   object \n",
      " 2   age                          9509 non-null   float64\n",
      " 3   gender                       9893 non-null   object \n",
      " 4   armed                        9893 non-null   object \n",
      " 5   race                         9893 non-null   object \n",
      " 6   city                         9893 non-null   object \n",
      " 7   state                        9893 non-null   object \n",
      " 8   flee                         8548 non-null   object \n",
      " 9   body_camera                  9893 non-null   bool   \n",
      " 10  signs_of_mental_illness      9893 non-null   bool   \n",
      " 11  police_departments_involved  9892 non-null   object \n",
      "dtypes: bool(2), float64(1), object(9)\n",
      "memory usage: 792.3+ KB\n"
     ]
    }
   ],
   "source": [
    "# Confirm these nulls have all been handled \n",
    "\n",
    "data.info()"
   ]
  },
  {
   "cell_type": "code",
   "execution_count": 161,
   "id": "d738ea53",
   "metadata": {},
   "outputs": [
    {
     "data": {
      "text/plain": [
       "array(['not', 'car', 'foot', 'other', nan], dtype=object)"
      ]
     },
     "execution_count": 161,
     "metadata": {},
     "output_type": "execute_result"
    }
   ],
   "source": [
    "# Inspect unique values in the 'flee' column\n",
    "\n",
    "data['flee'].unique()"
   ]
  },
  {
   "cell_type": "code",
   "execution_count": 162,
   "id": "2225b448",
   "metadata": {},
   "outputs": [
    {
     "data": {
      "text/plain": [
       "0      not\n",
       "1      not\n",
       "2      not\n",
       "3      not\n",
       "4      not\n",
       "5      not\n",
       "6      car\n",
       "7      not\n",
       "8      not\n",
       "9      not\n",
       "10     not\n",
       "11    foot\n",
       "12     car\n",
       "13     not\n",
       "14     not\n",
       "15     not\n",
       "16     not\n",
       "17     not\n",
       "18     not\n",
       "19     not\n",
       "20     not\n",
       "21    foot\n",
       "22     not\n",
       "23     not\n",
       "24     not\n",
       "Name: flee, dtype: object"
      ]
     },
     "execution_count": 162,
     "metadata": {},
     "output_type": "execute_result"
    }
   ],
   "source": [
    "# Print a sample of 25 values from this 'flee' column to get a taste of the regularity of values \n",
    "\n",
    "data['flee'].head(25)"
   ]
  },
  {
   "cell_type": "code",
   "execution_count": 163,
   "id": "06b876e1",
   "metadata": {},
   "outputs": [],
   "source": [
    "data['flee'] = data['flee'].replace({'not':'did not flee'})"
   ]
  },
  {
   "cell_type": "code",
   "execution_count": 164,
   "id": "a99d5a9e",
   "metadata": {},
   "outputs": [],
   "source": [
    "# I have decided to fill nulls with the value 'unknown'\n",
    "\n",
    "data['flee'] = data['flee'].fillna('not reported')"
   ]
  },
  {
   "cell_type": "code",
   "execution_count": 165,
   "id": "aeadc0b3",
   "metadata": {},
   "outputs": [
    {
     "name": "stdout",
     "output_type": "stream",
     "text": [
      "<class 'pandas.core.frame.DataFrame'>\n",
      "RangeIndex: 9893 entries, 0 to 9892\n",
      "Data columns (total 12 columns):\n",
      " #   Column                       Non-Null Count  Dtype  \n",
      "---  ------                       --------------  -----  \n",
      " 0   date                         9893 non-null   object \n",
      " 1   name                         9893 non-null   object \n",
      " 2   age                          9509 non-null   float64\n",
      " 3   gender                       9893 non-null   object \n",
      " 4   armed                        9893 non-null   object \n",
      " 5   race                         9893 non-null   object \n",
      " 6   city                         9893 non-null   object \n",
      " 7   state                        9893 non-null   object \n",
      " 8   flee                         9893 non-null   object \n",
      " 9   body_camera                  9893 non-null   bool   \n",
      " 10  signs_of_mental_illness      9893 non-null   bool   \n",
      " 11  police_departments_involved  9892 non-null   object \n",
      "dtypes: bool(2), float64(1), object(9)\n",
      "memory usage: 792.3+ KB\n"
     ]
    }
   ],
   "source": [
    "# Confirm that all nulls in the 'flee' column have been handled \n",
    "\n",
    "data.info()"
   ]
  },
  {
   "cell_type": "code",
   "execution_count": 166,
   "id": "24622e3d",
   "metadata": {},
   "outputs": [
    {
     "data": {
      "text/html": [
       "<div>\n",
       "<style scoped>\n",
       "    .dataframe tbody tr th:only-of-type {\n",
       "        vertical-align: middle;\n",
       "    }\n",
       "\n",
       "    .dataframe tbody tr th {\n",
       "        vertical-align: top;\n",
       "    }\n",
       "\n",
       "    .dataframe thead th {\n",
       "        text-align: right;\n",
       "    }\n",
       "</style>\n",
       "<table border=\"1\" class=\"dataframe\">\n",
       "  <thead>\n",
       "    <tr style=\"text-align: right;\">\n",
       "      <th></th>\n",
       "      <th>date</th>\n",
       "      <th>name</th>\n",
       "      <th>age</th>\n",
       "      <th>gender</th>\n",
       "      <th>armed</th>\n",
       "      <th>race</th>\n",
       "      <th>city</th>\n",
       "      <th>state</th>\n",
       "      <th>flee</th>\n",
       "      <th>body_camera</th>\n",
       "      <th>signs_of_mental_illness</th>\n",
       "      <th>police_departments_involved</th>\n",
       "    </tr>\n",
       "  </thead>\n",
       "  <tbody>\n",
       "    <tr>\n",
       "      <th>9770</th>\n",
       "      <td>2024-06-10</td>\n",
       "      <td>Ridge Ryen Rhodes</td>\n",
       "      <td>29.0</td>\n",
       "      <td>male</td>\n",
       "      <td>gun</td>\n",
       "      <td>White</td>\n",
       "      <td>Lewistown</td>\n",
       "      <td>PA</td>\n",
       "      <td>did not flee</td>\n",
       "      <td>False</td>\n",
       "      <td>False</td>\n",
       "      <td>NaN</td>\n",
       "    </tr>\n",
       "  </tbody>\n",
       "</table>\n",
       "</div>"
      ],
      "text/plain": [
       "            date               name   age gender armed   race       city  \\\n",
       "9770  2024-06-10  Ridge Ryen Rhodes  29.0   male   gun  White  Lewistown   \n",
       "\n",
       "     state          flee  body_camera  signs_of_mental_illness  \\\n",
       "9770    PA  did not flee        False                    False   \n",
       "\n",
       "     police_departments_involved  \n",
       "9770                         NaN  "
      ]
     },
     "execution_count": 166,
     "metadata": {},
     "output_type": "execute_result"
    }
   ],
   "source": [
    "# Since there is only one null in the 'police_departments_involved' column I wanted to find and inspect it to assess the\n",
    "# irregularity.\n",
    "\n",
    "data[data['police_departments_involved'].isna()]"
   ]
  },
  {
   "cell_type": "code",
   "execution_count": 167,
   "id": "68bb6eba",
   "metadata": {},
   "outputs": [
    {
     "data": {
      "text/html": [
       "<div>\n",
       "<style scoped>\n",
       "    .dataframe tbody tr th:only-of-type {\n",
       "        vertical-align: middle;\n",
       "    }\n",
       "\n",
       "    .dataframe tbody tr th {\n",
       "        vertical-align: top;\n",
       "    }\n",
       "\n",
       "    .dataframe thead th {\n",
       "        text-align: right;\n",
       "    }\n",
       "</style>\n",
       "<table border=\"1\" class=\"dataframe\">\n",
       "  <thead>\n",
       "    <tr style=\"text-align: right;\">\n",
       "      <th></th>\n",
       "      <th>date</th>\n",
       "      <th>name</th>\n",
       "      <th>age</th>\n",
       "      <th>gender</th>\n",
       "      <th>armed</th>\n",
       "      <th>race</th>\n",
       "      <th>city</th>\n",
       "      <th>state</th>\n",
       "      <th>flee</th>\n",
       "      <th>body_camera</th>\n",
       "      <th>signs_of_mental_illness</th>\n",
       "      <th>police_departments_involved</th>\n",
       "    </tr>\n",
       "  </thead>\n",
       "  <tbody>\n",
       "    <tr>\n",
       "      <th>2278</th>\n",
       "      <td>2017-04-26</td>\n",
       "      <td>Charles Bossinger</td>\n",
       "      <td>53.0</td>\n",
       "      <td>male</td>\n",
       "      <td>gun</td>\n",
       "      <td>White</td>\n",
       "      <td>Lewistown</td>\n",
       "      <td>PA</td>\n",
       "      <td>did not flee</td>\n",
       "      <td>False</td>\n",
       "      <td>True</td>\n",
       "      <td>Lewistown Borough Police Department, PA</td>\n",
       "    </tr>\n",
       "    <tr>\n",
       "      <th>5139</th>\n",
       "      <td>2020-03-15</td>\n",
       "      <td>Douglas J. Foster</td>\n",
       "      <td>47.0</td>\n",
       "      <td>male</td>\n",
       "      <td>gun</td>\n",
       "      <td>White</td>\n",
       "      <td>Lewistown</td>\n",
       "      <td>MT</td>\n",
       "      <td>car</td>\n",
       "      <td>False</td>\n",
       "      <td>False</td>\n",
       "      <td>Dillon Police Department, MT</td>\n",
       "    </tr>\n",
       "    <tr>\n",
       "      <th>5781</th>\n",
       "      <td>2020-11-04</td>\n",
       "      <td>Justin Hammack</td>\n",
       "      <td>26.0</td>\n",
       "      <td>male</td>\n",
       "      <td>replica</td>\n",
       "      <td>White</td>\n",
       "      <td>Lewistown</td>\n",
       "      <td>IL</td>\n",
       "      <td>not reported</td>\n",
       "      <td>False</td>\n",
       "      <td>True</td>\n",
       "      <td>Fulton County Sheriff's Department, IL;Lewisto...</td>\n",
       "    </tr>\n",
       "    <tr>\n",
       "      <th>9770</th>\n",
       "      <td>2024-06-10</td>\n",
       "      <td>Ridge Ryen Rhodes</td>\n",
       "      <td>29.0</td>\n",
       "      <td>male</td>\n",
       "      <td>gun</td>\n",
       "      <td>White</td>\n",
       "      <td>Lewistown</td>\n",
       "      <td>PA</td>\n",
       "      <td>did not flee</td>\n",
       "      <td>False</td>\n",
       "      <td>False</td>\n",
       "      <td>NaN</td>\n",
       "    </tr>\n",
       "  </tbody>\n",
       "</table>\n",
       "</div>"
      ],
      "text/plain": [
       "            date               name   age gender    armed   race       city  \\\n",
       "2278  2017-04-26  Charles Bossinger  53.0   male      gun  White  Lewistown   \n",
       "5139  2020-03-15  Douglas J. Foster  47.0   male      gun  White  Lewistown   \n",
       "5781  2020-11-04     Justin Hammack  26.0   male  replica  White  Lewistown   \n",
       "9770  2024-06-10  Ridge Ryen Rhodes  29.0   male      gun  White  Lewistown   \n",
       "\n",
       "     state          flee  body_camera  signs_of_mental_illness  \\\n",
       "2278    PA  did not flee        False                     True   \n",
       "5139    MT           car        False                    False   \n",
       "5781    IL  not reported        False                     True   \n",
       "9770    PA  did not flee        False                    False   \n",
       "\n",
       "                            police_departments_involved  \n",
       "2278            Lewistown Borough Police Department, PA  \n",
       "5139                       Dillon Police Department, MT  \n",
       "5781  Fulton County Sheriff's Department, IL;Lewisto...  \n",
       "9770                                                NaN  "
      ]
     },
     "execution_count": 167,
     "metadata": {},
     "output_type": "execute_result"
    }
   ],
   "source": [
    "# Check to see if there is another row for this city (The state combination is also relevant here.) Since there is another\n",
    "# record for Lewistown, PA I will coerce the unknown value to match this other record\n",
    "\n",
    "data[data['city'] == 'Lewistown']"
   ]
  },
  {
   "cell_type": "code",
   "execution_count": 168,
   "id": "db18678d",
   "metadata": {},
   "outputs": [],
   "source": [
    "# I decided to coerce to the department with the matching city, state combination.\n",
    "\n",
    "data['police_departments_involved'] = data['police_departments_involved'].fillna('Lewistown Borough Police Department, PA')"
   ]
  },
  {
   "cell_type": "code",
   "execution_count": 169,
   "id": "bedba980",
   "metadata": {},
   "outputs": [
    {
     "data": {
      "text/html": [
       "<div>\n",
       "<style scoped>\n",
       "    .dataframe tbody tr th:only-of-type {\n",
       "        vertical-align: middle;\n",
       "    }\n",
       "\n",
       "    .dataframe tbody tr th {\n",
       "        vertical-align: top;\n",
       "    }\n",
       "\n",
       "    .dataframe thead th {\n",
       "        text-align: right;\n",
       "    }\n",
       "</style>\n",
       "<table border=\"1\" class=\"dataframe\">\n",
       "  <thead>\n",
       "    <tr style=\"text-align: right;\">\n",
       "      <th></th>\n",
       "      <th>date</th>\n",
       "      <th>name</th>\n",
       "      <th>age</th>\n",
       "      <th>gender</th>\n",
       "      <th>armed</th>\n",
       "      <th>race</th>\n",
       "      <th>city</th>\n",
       "      <th>state</th>\n",
       "      <th>flee</th>\n",
       "      <th>body_camera</th>\n",
       "      <th>signs_of_mental_illness</th>\n",
       "      <th>police_departments_involved</th>\n",
       "    </tr>\n",
       "  </thead>\n",
       "  <tbody>\n",
       "    <tr>\n",
       "      <th>2278</th>\n",
       "      <td>2017-04-26</td>\n",
       "      <td>Charles Bossinger</td>\n",
       "      <td>53.0</td>\n",
       "      <td>male</td>\n",
       "      <td>gun</td>\n",
       "      <td>White</td>\n",
       "      <td>Lewistown</td>\n",
       "      <td>PA</td>\n",
       "      <td>did not flee</td>\n",
       "      <td>False</td>\n",
       "      <td>True</td>\n",
       "      <td>Lewistown Borough Police Department, PA</td>\n",
       "    </tr>\n",
       "    <tr>\n",
       "      <th>5139</th>\n",
       "      <td>2020-03-15</td>\n",
       "      <td>Douglas J. Foster</td>\n",
       "      <td>47.0</td>\n",
       "      <td>male</td>\n",
       "      <td>gun</td>\n",
       "      <td>White</td>\n",
       "      <td>Lewistown</td>\n",
       "      <td>MT</td>\n",
       "      <td>car</td>\n",
       "      <td>False</td>\n",
       "      <td>False</td>\n",
       "      <td>Dillon Police Department, MT</td>\n",
       "    </tr>\n",
       "    <tr>\n",
       "      <th>5781</th>\n",
       "      <td>2020-11-04</td>\n",
       "      <td>Justin Hammack</td>\n",
       "      <td>26.0</td>\n",
       "      <td>male</td>\n",
       "      <td>replica</td>\n",
       "      <td>White</td>\n",
       "      <td>Lewistown</td>\n",
       "      <td>IL</td>\n",
       "      <td>not reported</td>\n",
       "      <td>False</td>\n",
       "      <td>True</td>\n",
       "      <td>Fulton County Sheriff's Department, IL;Lewisto...</td>\n",
       "    </tr>\n",
       "    <tr>\n",
       "      <th>9770</th>\n",
       "      <td>2024-06-10</td>\n",
       "      <td>Ridge Ryen Rhodes</td>\n",
       "      <td>29.0</td>\n",
       "      <td>male</td>\n",
       "      <td>gun</td>\n",
       "      <td>White</td>\n",
       "      <td>Lewistown</td>\n",
       "      <td>PA</td>\n",
       "      <td>did not flee</td>\n",
       "      <td>False</td>\n",
       "      <td>False</td>\n",
       "      <td>Lewistown Borough Police Department, PA</td>\n",
       "    </tr>\n",
       "  </tbody>\n",
       "</table>\n",
       "</div>"
      ],
      "text/plain": [
       "            date               name   age gender    armed   race       city  \\\n",
       "2278  2017-04-26  Charles Bossinger  53.0   male      gun  White  Lewistown   \n",
       "5139  2020-03-15  Douglas J. Foster  47.0   male      gun  White  Lewistown   \n",
       "5781  2020-11-04     Justin Hammack  26.0   male  replica  White  Lewistown   \n",
       "9770  2024-06-10  Ridge Ryen Rhodes  29.0   male      gun  White  Lewistown   \n",
       "\n",
       "     state          flee  body_camera  signs_of_mental_illness  \\\n",
       "2278    PA  did not flee        False                     True   \n",
       "5139    MT           car        False                    False   \n",
       "5781    IL  not reported        False                     True   \n",
       "9770    PA  did not flee        False                    False   \n",
       "\n",
       "                            police_departments_involved  \n",
       "2278            Lewistown Borough Police Department, PA  \n",
       "5139                       Dillon Police Department, MT  \n",
       "5781  Fulton County Sheriff's Department, IL;Lewisto...  \n",
       "9770            Lewistown Borough Police Department, PA  "
      ]
     },
     "execution_count": 169,
     "metadata": {},
     "output_type": "execute_result"
    }
   ],
   "source": [
    "# Confirm this worked as expected replacing the null value with the above identified department \n",
    "\n",
    "data[data['city'] == 'Lewistown']"
   ]
  },
  {
   "cell_type": "code",
   "execution_count": 170,
   "id": "e956a398",
   "metadata": {},
   "outputs": [
    {
     "data": {
      "text/html": [
       "<div>\n",
       "<style scoped>\n",
       "    .dataframe tbody tr th:only-of-type {\n",
       "        vertical-align: middle;\n",
       "    }\n",
       "\n",
       "    .dataframe tbody tr th {\n",
       "        vertical-align: top;\n",
       "    }\n",
       "\n",
       "    .dataframe thead th {\n",
       "        text-align: right;\n",
       "    }\n",
       "</style>\n",
       "<table border=\"1\" class=\"dataframe\">\n",
       "  <thead>\n",
       "    <tr style=\"text-align: right;\">\n",
       "      <th></th>\n",
       "      <th>race</th>\n",
       "    </tr>\n",
       "    <tr>\n",
       "      <th>police_departments_involved</th>\n",
       "      <th></th>\n",
       "    </tr>\n",
       "  </thead>\n",
       "  <tbody>\n",
       "    <tr>\n",
       "      <th>Los Angeles Police Department, CA</th>\n",
       "      <td>139</td>\n",
       "    </tr>\n",
       "    <tr>\n",
       "      <th>Phoenix Police Department, AZ</th>\n",
       "      <td>119</td>\n",
       "    </tr>\n",
       "    <tr>\n",
       "      <th>Los Angeles County Sheriff's Department, CA</th>\n",
       "      <td>110</td>\n",
       "    </tr>\n",
       "    <tr>\n",
       "      <th>Houston Police Department, TX</th>\n",
       "      <td>77</td>\n",
       "    </tr>\n",
       "    <tr>\n",
       "      <th>San Antonio Police Department, TX</th>\n",
       "      <td>77</td>\n",
       "    </tr>\n",
       "    <tr>\n",
       "      <th>New York Police Department, NY</th>\n",
       "      <td>77</td>\n",
       "    </tr>\n",
       "    <tr>\n",
       "      <th>Las Vegas Metropolitan Police Department, NV</th>\n",
       "      <td>71</td>\n",
       "    </tr>\n",
       "    <tr>\n",
       "      <th>San Bernardino County Sheriff's Department, CA</th>\n",
       "      <td>55</td>\n",
       "    </tr>\n",
       "    <tr>\n",
       "      <th>Pennsylvania State Police, PA</th>\n",
       "      <td>55</td>\n",
       "    </tr>\n",
       "    <tr>\n",
       "      <th>Riverside County Sheriff's Department, CA</th>\n",
       "      <td>52</td>\n",
       "    </tr>\n",
       "  </tbody>\n",
       "</table>\n",
       "</div>"
      ],
      "text/plain": [
       "                                                race\n",
       "police_departments_involved                         \n",
       "Los Angeles Police Department, CA                139\n",
       "Phoenix Police Department, AZ                    119\n",
       "Los Angeles County Sheriff's Department, CA      110\n",
       "Houston Police Department, TX                     77\n",
       "San Antonio Police Department, TX                 77\n",
       "New York Police Department, NY                    77\n",
       "Las Vegas Metropolitan Police Department, NV      71\n",
       "San Bernardino County Sheriff's Department, CA    55\n",
       "Pennsylvania State Police, PA                     55\n",
       "Riverside County Sheriff's Department, CA         52"
      ]
     },
     "execution_count": 170,
     "metadata": {},
     "output_type": "execute_result"
    }
   ],
   "source": [
    "# At this point I just wanted to look at the top 10 departments with known shootings \n",
    "\n",
    "data[['police_departments_involved', 'race']].groupby('police_departments_involved').count().sort_values(by='race', ascending=False).head(10)"
   ]
  },
  {
   "cell_type": "code",
   "execution_count": 171,
   "id": "a6f8fc11",
   "metadata": {},
   "outputs": [
    {
     "name": "stdout",
     "output_type": "stream",
     "text": [
      "<class 'pandas.core.frame.DataFrame'>\n",
      "RangeIndex: 9893 entries, 0 to 9892\n",
      "Data columns (total 12 columns):\n",
      " #   Column                       Non-Null Count  Dtype  \n",
      "---  ------                       --------------  -----  \n",
      " 0   date                         9893 non-null   object \n",
      " 1   name                         9893 non-null   object \n",
      " 2   age                          9509 non-null   float64\n",
      " 3   gender                       9893 non-null   object \n",
      " 4   armed                        9893 non-null   object \n",
      " 5   race                         9893 non-null   object \n",
      " 6   city                         9893 non-null   object \n",
      " 7   state                        9893 non-null   object \n",
      " 8   flee                         9893 non-null   object \n",
      " 9   body_camera                  9893 non-null   bool   \n",
      " 10  signs_of_mental_illness      9893 non-null   bool   \n",
      " 11  police_departments_involved  9893 non-null   object \n",
      "dtypes: bool(2), float64(1), object(9)\n",
      "memory usage: 792.3+ KB\n"
     ]
    }
   ],
   "source": [
    "# Inspect to assess our cleanup process \n",
    "\n",
    "data.info()"
   ]
  },
  {
   "cell_type": "code",
   "execution_count": 172,
   "id": "6a39d932",
   "metadata": {},
   "outputs": [
    {
     "data": {
      "text/plain": [
       "array(['White', 'Asian', 'Hispanic', 'Black', 'Other', 'Unknown',\n",
       "       'Native American', 'White,Black,Native American',\n",
       "       'Native American,Hispanic', 'White,Hispanic', 'Black,Hispanic',\n",
       "       'White,Black'], dtype=object)"
      ]
     },
     "execution_count": 172,
     "metadata": {},
     "output_type": "execute_result"
    }
   ],
   "source": [
    "# Inspect the unique values in the 'race' column \n",
    "\n",
    "data['race'].unique()"
   ]
  },
  {
   "cell_type": "code",
   "execution_count": 173,
   "id": "9385e379",
   "metadata": {},
   "outputs": [],
   "source": [
    "# I've decided to coerce values with a comma to be represented as 'Multiple Races' as opposed to the more unsightly values\n",
    "# that are inherent to the column \n",
    "\n",
    "for value in data['race']:\n",
    "    if ',' in value:\n",
    "        data ['race'] = data['race'].replace(value, 'Multiple Races')"
   ]
  },
  {
   "cell_type": "code",
   "execution_count": 174,
   "id": "79af46e9",
   "metadata": {},
   "outputs": [
    {
     "data": {
      "text/plain": [
       "array(['White', 'Asian', 'Hispanic', 'Black', 'Other', 'Unknown',\n",
       "       'Native American', 'Multiple Races'], dtype=object)"
      ]
     },
     "execution_count": 174,
     "metadata": {},
     "output_type": "execute_result"
    }
   ],
   "source": [
    "# Confirm that this worked as expected \n",
    "\n",
    "data['race'].unique()"
   ]
  },
  {
   "cell_type": "code",
   "execution_count": 175,
   "id": "f68a2661",
   "metadata": {},
   "outputs": [
    {
     "data": {
      "text/plain": [
       "array([False,  True])"
      ]
     },
     "execution_count": 175,
     "metadata": {},
     "output_type": "execute_result"
    }
   ],
   "source": [
    "# Confirm that this boolean column only contains 'True' and 'False'\n",
    "\n",
    "data['body_camera'].unique()"
   ]
  },
  {
   "cell_type": "code",
   "execution_count": 176,
   "id": "4bffc804",
   "metadata": {},
   "outputs": [
    {
     "data": {
      "text/plain": [
       "array([False,  True])"
      ]
     },
     "execution_count": 176,
     "metadata": {},
     "output_type": "execute_result"
    }
   ],
   "source": [
    "# Confirm that this boolean column only contains 'True' and 'False'\n",
    "\n",
    "data['signs_of_mental_illness'].unique()"
   ]
  },
  {
   "cell_type": "code",
   "execution_count": 177,
   "id": "880de39d",
   "metadata": {},
   "outputs": [],
   "source": [
    "# The nulls in our age column present a bit of a different challenge. Since the datatype is currently 'float64' then unknown\n",
    "# would be an inappropriate value. One option is to just drop these columns as incomplete data that could throw our analysis.\n",
    "# Another is to coerce to a mean or median value. In this instance I've decided to just coerce them to 0. This is a risky choice\n",
    "# and definitely should be footnoted in any visualizations or reports to keep from confusing stakeholders of the analysis. \n",
    "\n",
    "data['age'] = data['age'].fillna(0.0)"
   ]
  },
  {
   "cell_type": "code",
   "execution_count": 178,
   "id": "ffe5a26d",
   "metadata": {},
   "outputs": [],
   "source": [
    "# I want to convert to integer from float to avoid unsightly decimal places as all decimals are .0 thus mathematically\n",
    "# meaningless\n",
    "\n",
    "data['age'] = data['age'].astype(int)"
   ]
  },
  {
   "cell_type": "code",
   "execution_count": 179,
   "id": "1199a212",
   "metadata": {},
   "outputs": [
    {
     "data": {
      "text/html": [
       "<div>\n",
       "<style scoped>\n",
       "    .dataframe tbody tr th:only-of-type {\n",
       "        vertical-align: middle;\n",
       "    }\n",
       "\n",
       "    .dataframe tbody tr th {\n",
       "        vertical-align: top;\n",
       "    }\n",
       "\n",
       "    .dataframe thead th {\n",
       "        text-align: right;\n",
       "    }\n",
       "</style>\n",
       "<table border=\"1\" class=\"dataframe\">\n",
       "  <thead>\n",
       "    <tr style=\"text-align: right;\">\n",
       "      <th></th>\n",
       "      <th>race</th>\n",
       "    </tr>\n",
       "    <tr>\n",
       "      <th>age</th>\n",
       "      <th></th>\n",
       "    </tr>\n",
       "  </thead>\n",
       "  <tbody>\n",
       "    <tr>\n",
       "      <th>0</th>\n",
       "      <td>384</td>\n",
       "    </tr>\n",
       "    <tr>\n",
       "      <th>33</th>\n",
       "      <td>332</td>\n",
       "    </tr>\n",
       "    <tr>\n",
       "      <th>34</th>\n",
       "      <td>328</td>\n",
       "    </tr>\n",
       "    <tr>\n",
       "      <th>31</th>\n",
       "      <td>321</td>\n",
       "    </tr>\n",
       "    <tr>\n",
       "      <th>32</th>\n",
       "      <td>315</td>\n",
       "    </tr>\n",
       "  </tbody>\n",
       "</table>\n",
       "</div>"
      ],
      "text/plain": [
       "     race\n",
       "age      \n",
       "0     384\n",
       "33    332\n",
       "34    328\n",
       "31    321\n",
       "32    315"
      ]
     },
     "execution_count": 179,
     "metadata": {},
     "output_type": "execute_result"
    }
   ],
   "source": [
    "# I wanted to check the top 5 ages of the victims of police shootings, since the #1 value is our coerced 0 dropping this data\n",
    "# could have a significant impact on the analysis. Thus we were right to make a complex decision to handle these rows in some\n",
    "# way. \n",
    "\n",
    "data[['age', 'race']].groupby('age').count().sort_values(by='race', ascending=False).head(5)"
   ]
  },
  {
   "cell_type": "code",
   "execution_count": 180,
   "id": "12342fdc",
   "metadata": {},
   "outputs": [],
   "source": [
    "# Create a 'year' column pulling the year from the 'date' column\n",
    "\n",
    "data['year'] = pd.DatetimeIndex(data['date']).year"
   ]
  },
  {
   "cell_type": "code",
   "execution_count": 181,
   "id": "9ddb3c7d",
   "metadata": {},
   "outputs": [
    {
     "data": {
      "text/plain": [
       "array([2015, 2016, 2017, 2018, 2019, 2020, 2021, 2022, 2023, 2024])"
      ]
     },
     "execution_count": 181,
     "metadata": {},
     "output_type": "execute_result"
    }
   ],
   "source": [
    "# Check the year column to ensure valid data. Since this data set covers 2015-2024 this is perfect.\n",
    "\n",
    "data['year'].unique()"
   ]
  },
  {
   "cell_type": "code",
   "execution_count": 182,
   "id": "098671f9",
   "metadata": {},
   "outputs": [],
   "source": [
    "# Create a 'month' column pulling the month from the 'date' column\n",
    "\n",
    "data['month'] = pd.DatetimeIndex(data['date']).month"
   ]
  },
  {
   "cell_type": "code",
   "execution_count": 183,
   "id": "2324b70b",
   "metadata": {},
   "outputs": [
    {
     "data": {
      "text/plain": [
       "array([ 1,  2,  3,  4,  5,  6,  7,  8,  9, 10, 11, 12])"
      ]
     },
     "execution_count": 183,
     "metadata": {},
     "output_type": "execute_result"
    }
   ],
   "source": [
    "# Check the month column to ensure all data is valid aka a number between 1 and 12\n",
    "\n",
    "data['month'].unique()"
   ]
  },
  {
   "cell_type": "code",
   "execution_count": 184,
   "id": "9c463555",
   "metadata": {},
   "outputs": [],
   "source": [
    "# Create age bins so we can assess the age of shooting victims within an age range\n",
    "\n",
    "data['age_bins'] = pd.cut(x=data['age'], bins=[-1,1,18,30,40,50, 65, 80, 100])"
   ]
  },
  {
   "cell_type": "code",
   "execution_count": 185,
   "id": "02be2c59",
   "metadata": {},
   "outputs": [
    {
     "name": "stderr",
     "output_type": "stream",
     "text": [
      "C:\\Users\\bourb\\AppData\\Local\\Temp\\ipykernel_20488\\171934527.py:3: FutureWarning: The default of observed=False is deprecated and will be changed to True in a future version of pandas. Pass observed=False to retain current behavior or observed=True to adopt the future default and silence this warning.\n",
      "  data[['age', 'age_bins']].groupby('age_bins').count()\n"
     ]
    },
    {
     "data": {
      "text/html": [
       "<div>\n",
       "<style scoped>\n",
       "    .dataframe tbody tr th:only-of-type {\n",
       "        vertical-align: middle;\n",
       "    }\n",
       "\n",
       "    .dataframe tbody tr th {\n",
       "        vertical-align: top;\n",
       "    }\n",
       "\n",
       "    .dataframe thead th {\n",
       "        text-align: right;\n",
       "    }\n",
       "</style>\n",
       "<table border=\"1\" class=\"dataframe\">\n",
       "  <thead>\n",
       "    <tr style=\"text-align: right;\">\n",
       "      <th></th>\n",
       "      <th>age</th>\n",
       "    </tr>\n",
       "    <tr>\n",
       "      <th>age_bins</th>\n",
       "      <th></th>\n",
       "    </tr>\n",
       "  </thead>\n",
       "  <tbody>\n",
       "    <tr>\n",
       "      <th>(-1, 1]</th>\n",
       "      <td>384</td>\n",
       "    </tr>\n",
       "    <tr>\n",
       "      <th>(1, 18]</th>\n",
       "      <td>323</td>\n",
       "    </tr>\n",
       "    <tr>\n",
       "      <th>(18, 30]</th>\n",
       "      <td>2896</td>\n",
       "    </tr>\n",
       "    <tr>\n",
       "      <th>(30, 40]</th>\n",
       "      <td>2929</td>\n",
       "    </tr>\n",
       "    <tr>\n",
       "      <th>(40, 50]</th>\n",
       "      <td>1790</td>\n",
       "    </tr>\n",
       "    <tr>\n",
       "      <th>(50, 65]</th>\n",
       "      <td>1296</td>\n",
       "    </tr>\n",
       "    <tr>\n",
       "      <th>(65, 80]</th>\n",
       "      <td>244</td>\n",
       "    </tr>\n",
       "    <tr>\n",
       "      <th>(80, 100]</th>\n",
       "      <td>31</td>\n",
       "    </tr>\n",
       "  </tbody>\n",
       "</table>\n",
       "</div>"
      ],
      "text/plain": [
       "            age\n",
       "age_bins       \n",
       "(-1, 1]     384\n",
       "(1, 18]     323\n",
       "(18, 30]   2896\n",
       "(30, 40]   2929\n",
       "(40, 50]   1790\n",
       "(50, 65]   1296\n",
       "(65, 80]    244\n",
       "(80, 100]    31"
      ]
     },
     "execution_count": 185,
     "metadata": {},
     "output_type": "execute_result"
    }
   ],
   "source": [
    "# Inspect the age bins for the purposes of data validation\n",
    "\n",
    "data[['age', 'age_bins']].groupby('age_bins').count()"
   ]
  },
  {
   "cell_type": "code",
   "execution_count": 186,
   "id": "581b3c55",
   "metadata": {},
   "outputs": [
    {
     "data": {
      "text/plain": [
       "9893"
      ]
     },
     "execution_count": 186,
     "metadata": {},
     "output_type": "execute_result"
    }
   ],
   "source": [
    "# Add up all the values from the above groupby to ensure that they match the row count from the DataFrame at large.\n",
    "\n",
    "384+323+2896+2929+1790+1296+244+31"
   ]
  },
  {
   "cell_type": "code",
   "execution_count": 187,
   "id": "870a47d3",
   "metadata": {},
   "outputs": [
    {
     "data": {
      "text/plain": [
       "Index(['date', 'name', 'age', 'gender', 'armed', 'race', 'city', 'state',\n",
       "       'flee', 'body_camera', 'signs_of_mental_illness',\n",
       "       'police_departments_involved', 'year', 'month', 'age_bins'],\n",
       "      dtype='object')"
      ]
     },
     "execution_count": 187,
     "metadata": {},
     "output_type": "execute_result"
    }
   ],
   "source": [
    "# Print column names \n",
    "\n",
    "data.columns"
   ]
  },
  {
   "cell_type": "code",
   "execution_count": 188,
   "id": "77921dc7",
   "metadata": {},
   "outputs": [],
   "source": [
    "# Rearrange the columns into a more logical order \n",
    "\n",
    "data = data[['date', 'month', 'year', 'name', 'age', 'age_bins', 'gender', 'armed', 'race', 'city', 'state', 'flee', 'body_camera', \n",
    "      'signs_of_mental_illness', 'police_departments_involved']]"
   ]
  },
  {
   "cell_type": "code",
   "execution_count": 189,
   "id": "050558a3",
   "metadata": {},
   "outputs": [
    {
     "data": {
      "text/html": [
       "<div>\n",
       "<style scoped>\n",
       "    .dataframe tbody tr th:only-of-type {\n",
       "        vertical-align: middle;\n",
       "    }\n",
       "\n",
       "    .dataframe tbody tr th {\n",
       "        vertical-align: top;\n",
       "    }\n",
       "\n",
       "    .dataframe thead th {\n",
       "        text-align: right;\n",
       "    }\n",
       "</style>\n",
       "<table border=\"1\" class=\"dataframe\">\n",
       "  <thead>\n",
       "    <tr style=\"text-align: right;\">\n",
       "      <th></th>\n",
       "      <th>date</th>\n",
       "      <th>month</th>\n",
       "      <th>year</th>\n",
       "      <th>name</th>\n",
       "      <th>age</th>\n",
       "      <th>age_bins</th>\n",
       "      <th>gender</th>\n",
       "      <th>armed</th>\n",
       "      <th>race</th>\n",
       "      <th>city</th>\n",
       "      <th>state</th>\n",
       "      <th>flee</th>\n",
       "      <th>body_camera</th>\n",
       "      <th>signs_of_mental_illness</th>\n",
       "      <th>police_departments_involved</th>\n",
       "    </tr>\n",
       "  </thead>\n",
       "  <tbody>\n",
       "    <tr>\n",
       "      <th>0</th>\n",
       "      <td>2015-01-02</td>\n",
       "      <td>1</td>\n",
       "      <td>2015</td>\n",
       "      <td>Lewis Lee Lembke</td>\n",
       "      <td>47</td>\n",
       "      <td>(40, 50]</td>\n",
       "      <td>male</td>\n",
       "      <td>gun</td>\n",
       "      <td>White</td>\n",
       "      <td>Aloha</td>\n",
       "      <td>OR</td>\n",
       "      <td>did not flee</td>\n",
       "      <td>False</td>\n",
       "      <td>False</td>\n",
       "      <td>Washington County Sheriff's Office, OR</td>\n",
       "    </tr>\n",
       "    <tr>\n",
       "      <th>1</th>\n",
       "      <td>2015-01-02</td>\n",
       "      <td>1</td>\n",
       "      <td>2015</td>\n",
       "      <td>Tim Elliot</td>\n",
       "      <td>53</td>\n",
       "      <td>(50, 65]</td>\n",
       "      <td>male</td>\n",
       "      <td>gun</td>\n",
       "      <td>Asian</td>\n",
       "      <td>Shelton</td>\n",
       "      <td>WA</td>\n",
       "      <td>did not flee</td>\n",
       "      <td>False</td>\n",
       "      <td>True</td>\n",
       "      <td>Mason County Sheriff's Office, WA</td>\n",
       "    </tr>\n",
       "    <tr>\n",
       "      <th>2</th>\n",
       "      <td>2015-01-03</td>\n",
       "      <td>1</td>\n",
       "      <td>2015</td>\n",
       "      <td>John Paul Quintero</td>\n",
       "      <td>23</td>\n",
       "      <td>(18, 30]</td>\n",
       "      <td>male</td>\n",
       "      <td>unarmed</td>\n",
       "      <td>Hispanic</td>\n",
       "      <td>Wichita</td>\n",
       "      <td>KS</td>\n",
       "      <td>did not flee</td>\n",
       "      <td>False</td>\n",
       "      <td>False</td>\n",
       "      <td>Wichita Police Department, KS</td>\n",
       "    </tr>\n",
       "  </tbody>\n",
       "</table>\n",
       "</div>"
      ],
      "text/plain": [
       "         date  month  year                name  age  age_bins gender    armed  \\\n",
       "0  2015-01-02      1  2015    Lewis Lee Lembke   47  (40, 50]   male      gun   \n",
       "1  2015-01-02      1  2015          Tim Elliot   53  (50, 65]   male      gun   \n",
       "2  2015-01-03      1  2015  John Paul Quintero   23  (18, 30]   male  unarmed   \n",
       "\n",
       "       race     city state          flee  body_camera  \\\n",
       "0     White    Aloha    OR  did not flee        False   \n",
       "1     Asian  Shelton    WA  did not flee        False   \n",
       "2  Hispanic  Wichita    KS  did not flee        False   \n",
       "\n",
       "   signs_of_mental_illness             police_departments_involved  \n",
       "0                    False  Washington County Sheriff's Office, OR  \n",
       "1                     True       Mason County Sheriff's Office, WA  \n",
       "2                    False           Wichita Police Department, KS  "
      ]
     },
     "execution_count": 189,
     "metadata": {},
     "output_type": "execute_result"
    }
   ],
   "source": [
    "# Inspect the DataFrame to give it a good last look over\n",
    "\n",
    "data.head(3)"
   ]
  },
  {
   "cell_type": "code",
   "execution_count": 190,
   "id": "00cc2cfc",
   "metadata": {},
   "outputs": [],
   "source": [
    "data.to_csv('c:/users/bourb/Data_Projects/US_Police_Shooting_2015-2024/cleaned_data.csv', index=False)"
   ]
  },
  {
   "cell_type": "code",
   "execution_count": 195,
   "id": "890db712",
   "metadata": {},
   "outputs": [],
   "source": [
    "flee = pd.DataFrame(data[['date', 'flee']].groupby('flee').count()/len(data)*100).rename(columns={'date':'flee rate'}).round(1)"
   ]
  },
  {
   "cell_type": "code",
   "execution_count": 198,
   "id": "2980e1ca",
   "metadata": {},
   "outputs": [],
   "source": [
    "flee.index.names = ['flee method']"
   ]
  },
  {
   "cell_type": "code",
   "execution_count": 199,
   "id": "0af0cef9",
   "metadata": {},
   "outputs": [
    {
     "data": {
      "text/plain": [
       "<Axes: >"
      ]
     },
     "execution_count": 199,
     "metadata": {},
     "output_type": "execute_result"
    },
    {
     "data": {
      "image/png": "[encoded data removed]",
      "text/plain": [
       "<Figure size 640x480 with 1 Axes>"
      ]
     },
     "metadata": {},
     "output_type": "display_data"
    }
   ],
   "source": [
    "flee.T.plot(kind='bar', color=['brown', 'grey', 'red', 'blue', 'black'])"
   ]
  }
 ],
 "metadata": {
  "kernelspec": {
   "display_name": "Python 3 (ipykernel)",
   "language": "python",
   "name": "python3"
  },
  "language_info": {
   "codemirror_mode": {
    "name": "ipython",
    "version": 3
   },
   "file_extension": ".py",
   "mimetype": "text/x-python",
   "name": "python",
   "nbconvert_exporter": "python",
   "pygments_lexer": "ipython3",
   "version": "3.11.7"
  }
 },
 "nbformat": 4,
 "nbformat_minor": 5
}
